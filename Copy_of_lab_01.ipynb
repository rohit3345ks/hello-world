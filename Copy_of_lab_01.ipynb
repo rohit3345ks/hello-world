{
  "nbformat": 4,
  "nbformat_minor": 0,
  "metadata": {
    "kernelspec": {
      "display_name": "Python 3",
      "language": "python",
      "name": "python3"
    },
    "language_info": {
      "codemirror_mode": {
        "name": "ipython",
        "version": 3
      },
      "file_extension": ".py",
      "mimetype": "text/x-python",
      "name": "python",
      "nbconvert_exporter": "python",
      "pygments_lexer": "ipython3",
      "version": "3.6.9"
    },
    "colab": {
      "name": "Copy of lab_01.ipynb",
      "provenance": [],
      "collapsed_sections": [
        "q-DKUdIUq_87",
        "QBInoBwHq_8_",
        "DjMulbIcq_9O",
        "2xGiyeLWq_9S",
        "cK7BgtPtq_9d",
        "eUsVgAEyq_9_",
        "ZNe2kq84q_-S",
        "DqzFs7z-q_-l",
        "sBH2Fpbwq__A"
      ],
      "include_colab_link": true
    }
  },
  "cells": [
    {
      "cell_type": "markdown",
      "metadata": {
        "id": "view-in-github",
        "colab_type": "text"
      },
      "source": [
        "<a href=\"https://colab.research.google.com/github/rohit3345ks/hello-world/blob/master/Copy_of_lab_01.ipynb\" target=\"_parent\"><img src=\"https://colab.research.google.com/assets/colab-badge.svg\" alt=\"Open In Colab\"/></a>"
      ]
    },
    {
      "cell_type": "markdown",
      "metadata": {
        "id": "rmfTU3HJq_8I",
        "colab_type": "text"
      },
      "source": [
        "# Lab 01 - Python introduction"
      ]
    },
    {
      "cell_type": "markdown",
      "metadata": {
        "id": "sJiLNLXeq_8J",
        "colab_type": "text"
      },
      "source": [
        "Python is a popular programming language well suited for data analysis. Created in 1991 by Guido van Rossum, Python is now the 3rd most popular programing language in use (TIOBE index August 2019, https://www.tiobe.com/tiobe-index/)"
      ]
    },
    {
      "cell_type": "markdown",
      "metadata": {
        "id": "Xtixw0JCq_8K",
        "colab_type": "text"
      },
      "source": [
        "IPython (Interactive Python) Notebooks allow to run Python code interactively, meaning that we can execute and re-execute parts of the code in code blocks and annotate the code document with markdown and LaTeX syntax. Code blocks share the variables, which allows us to use the variables from one code block in other code blocks, and can be run in arbitrary order."
      ]
    },
    {
      "cell_type": "markdown",
      "metadata": {
        "id": "swF37RgGq_8K",
        "colab_type": "text"
      },
      "source": [
        "The original (offline) way to run IPython Notebooks (.pynb) is by using [Jupyter Notebook](https://jupyter.org/)."
      ]
    },
    {
      "cell_type": "markdown",
      "metadata": {
        "id": "rYa6OSmiq_8L",
        "colab_type": "text"
      },
      "source": [
        "Note: You can run and experiment with this notebook using https://colab.research.google.com without the need to install Python and its necessary packages."
      ]
    },
    {
      "cell_type": "markdown",
      "metadata": {
        "id": "ZN_jUx1kq_8M",
        "colab_type": "text"
      },
      "source": [
        "## Syntax"
      ]
    },
    {
      "cell_type": "markdown",
      "metadata": {
        "id": "oJV42kq1q_8M",
        "colab_type": "text"
      },
      "source": [
        "Python programming syntax is simple. Here is an example of how to display a text:"
      ]
    },
    {
      "cell_type": "code",
      "metadata": {
        "id": "JZXgIAJLq_8N",
        "colab_type": "code",
        "colab": {}
      },
      "source": [
        "print(\"Hello, World!\")"
      ],
      "execution_count": 0,
      "outputs": []
    },
    {
      "cell_type": "markdown",
      "metadata": {
        "id": "jutlwqLZq_8R",
        "colab_type": "text"
      },
      "source": [
        "One main difference from other programming languages is that Python considers indentation to define code blocks. This is done to improve the code readability.\n",
        "\n",
        "For example:"
      ]
    },
    {
      "cell_type": "code",
      "metadata": {
        "id": "jReDAO6gq_8S",
        "colab_type": "code",
        "colab": {}
      },
      "source": [
        "def say_the_word(the_word):\n",
        "    print(the_word)\n",
        "    \n",
        "print()"
      ],
      "execution_count": 0,
      "outputs": []
    },
    {
      "cell_type": "code",
      "metadata": {
        "id": "HPCgCfv-q_8W",
        "colab_type": "code",
        "colab": {}
      },
      "source": [
        "say_the_word(\"Hi!\")"
      ],
      "execution_count": 0,
      "outputs": []
    },
    {
      "cell_type": "markdown",
      "metadata": {
        "id": "1oOW5OUhq_8Z",
        "colab_type": "text"
      },
      "source": [
        "## (Primitive) Types and Operators"
      ]
    },
    {
      "cell_type": "markdown",
      "metadata": {
        "id": "ZkyYdijtq_8a",
        "colab_type": "text"
      },
      "source": [
        "Integer"
      ]
    },
    {
      "cell_type": "code",
      "metadata": {
        "id": "Cr_BCkefq_8a",
        "colab_type": "code",
        "colab": {}
      },
      "source": [
        "15"
      ],
      "execution_count": 0,
      "outputs": []
    },
    {
      "cell_type": "markdown",
      "metadata": {
        "id": "INc8IHN-q_8e",
        "colab_type": "text"
      },
      "source": [
        "Float"
      ]
    },
    {
      "cell_type": "code",
      "metadata": {
        "id": "kGWeIEFPq_8e",
        "colab_type": "code",
        "colab": {}
      },
      "source": [
        "15.78"
      ],
      "execution_count": 0,
      "outputs": []
    },
    {
      "cell_type": "code",
      "metadata": {
        "id": "5KYUBBaZq_8h",
        "colab_type": "code",
        "colab": {}
      },
      "source": [
        "15.3 + 17 / 8 * (21 - 3) ** 3 % 3"
      ],
      "execution_count": 0,
      "outputs": []
    },
    {
      "cell_type": "markdown",
      "metadata": {
        "id": "LdqoYmg0q_8j",
        "colab_type": "text"
      },
      "source": [
        "String"
      ]
    },
    {
      "cell_type": "code",
      "metadata": {
        "id": "44z54tqUq_8l",
        "colab_type": "code",
        "colab": {}
      },
      "source": [
        "\"Hi!\"\n",
        "'Hi!'\n",
        "\"\"\"Multiline\n",
        "hi!\"\"\""
      ],
      "execution_count": 0,
      "outputs": []
    },
    {
      "cell_type": "code",
      "metadata": {
        "id": "c7EnFlr9q_8n",
        "colab_type": "code",
        "colab": {}
      },
      "source": [
        "\"Hel\" + \"lo!\""
      ],
      "execution_count": 0,
      "outputs": []
    },
    {
      "cell_type": "markdown",
      "metadata": {
        "id": "oTiIp3d8q_8q",
        "colab_type": "text"
      },
      "source": [
        "Boolean"
      ]
    },
    {
      "cell_type": "code",
      "metadata": {
        "id": "81VzSrbAq_8r",
        "colab_type": "code",
        "colab": {}
      },
      "source": [
        "True\n",
        "False"
      ],
      "execution_count": 0,
      "outputs": []
    },
    {
      "cell_type": "code",
      "metadata": {
        "id": "yTXljPVBq_8t",
        "colab_type": "code",
        "colab": {}
      },
      "source": [
        "15 < 8"
      ],
      "execution_count": 0,
      "outputs": []
    },
    {
      "cell_type": "code",
      "metadata": {
        "id": "2xmwXxOMq_8v",
        "colab_type": "code",
        "colab": {}
      },
      "source": [
        "3 > 2"
      ],
      "execution_count": 0,
      "outputs": []
    },
    {
      "cell_type": "code",
      "metadata": {
        "id": "1TlJfIslq_8x",
        "colab_type": "code",
        "colab": {}
      },
      "source": [
        "15 < 8 or 3 > 2"
      ],
      "execution_count": 0,
      "outputs": []
    },
    {
      "cell_type": "code",
      "metadata": {
        "id": "7Bzg-rGKq_80",
        "colab_type": "code",
        "colab": {}
      },
      "source": [
        "15 < 8 and 3 > 2"
      ],
      "execution_count": 0,
      "outputs": []
    },
    {
      "cell_type": "markdown",
      "metadata": {
        "id": "ElAl6qaQq_84",
        "colab_type": "text"
      },
      "source": [
        "Null"
      ]
    },
    {
      "cell_type": "code",
      "metadata": {
        "id": "IPrAAXZZq_84",
        "colab_type": "code",
        "colab": {}
      },
      "source": [
        "None"
      ],
      "execution_count": 0,
      "outputs": []
    },
    {
      "cell_type": "markdown",
      "metadata": {
        "id": "q-DKUdIUq_87",
        "colab_type": "text"
      },
      "source": [
        "## Pass\n",
        "Aka \"I don't know (yet?) what to do here\" or \"I don't want to do anything here\" "
      ]
    },
    {
      "cell_type": "code",
      "metadata": {
        "id": "-RRFPkuSq_87",
        "colab_type": "code",
        "colab": {}
      },
      "source": [
        "pass"
      ],
      "execution_count": 0,
      "outputs": []
    },
    {
      "cell_type": "markdown",
      "metadata": {
        "id": "QBInoBwHq_8_",
        "colab_type": "text"
      },
      "source": [
        "## Variables"
      ]
    },
    {
      "cell_type": "markdown",
      "metadata": {
        "id": "2A1s3zHBq_9A",
        "colab_type": "text"
      },
      "source": [
        "Variable is an entity which can contain some value like a number, a string or even a table.\n",
        "In order to assign value to variable you can use the \"=\" operator:"
      ]
    },
    {
      "cell_type": "code",
      "metadata": {
        "id": "4r2cT9tkq_9B",
        "colab_type": "code",
        "colab": {}
      },
      "source": [
        "x = 42"
      ],
      "execution_count": 0,
      "outputs": []
    },
    {
      "cell_type": "markdown",
      "metadata": {
        "id": "2pCWbTuHq_9I",
        "colab_type": "text"
      },
      "source": [
        "Python is a case sensitive language. This means that the following variables **var**, **Var** and **vAr** are different and can contain different values. Let’s look at an example:"
      ]
    },
    {
      "cell_type": "code",
      "metadata": {
        "id": "_YpIOgWYq_9J",
        "colab_type": "code",
        "colab": {}
      },
      "source": [
        "var = 10\n",
        "Var = 15\n",
        "vAr = 'Hi!'"
      ],
      "execution_count": 0,
      "outputs": []
    },
    {
      "cell_type": "code",
      "metadata": {
        "id": "SU9gxiY6q_9L",
        "colab_type": "code",
        "colab": {}
      },
      "source": [
        "say_the_word(var)\n",
        "say_the_word(Var)\n",
        "say_the_word(vAr)"
      ],
      "execution_count": 0,
      "outputs": []
    },
    {
      "cell_type": "markdown",
      "metadata": {
        "id": "DjMulbIcq_9O",
        "colab_type": "text"
      },
      "source": [
        "## Comments"
      ]
    },
    {
      "cell_type": "markdown",
      "metadata": {
        "id": "cC59WRVnq_9O",
        "colab_type": "text"
      },
      "source": [
        "In order to leave some notes in the code, you can use comments. Comment lines starts with a #.\n",
        "\n",
        "\n",
        "Example:"
      ]
    },
    {
      "cell_type": "code",
      "metadata": {
        "id": "_QKzu1B5q_9P",
        "colab_type": "code",
        "colab": {}
      },
      "source": [
        "# This is a comment\n",
        "x = 42"
      ],
      "execution_count": 0,
      "outputs": []
    },
    {
      "cell_type": "markdown",
      "metadata": {
        "id": "2xGiyeLWq_9S",
        "colab_type": "text"
      },
      "source": [
        "## Functions and their arguments"
      ]
    },
    {
      "cell_type": "markdown",
      "metadata": {
        "id": "XTC8DK5hq_9T",
        "colab_type": "text"
      },
      "source": [
        "Functions can be used to execute the same calculations on different set of values.\n",
        "For example:"
      ]
    },
    {
      "cell_type": "code",
      "metadata": {
        "id": "NrQrfBXyq_9U",
        "colab_type": "code",
        "colab": {}
      },
      "source": [
        "import math\n",
        "\n",
        "a = 9\n",
        "b = math.sqrt(a)"
      ],
      "execution_count": 0,
      "outputs": []
    },
    {
      "cell_type": "markdown",
      "metadata": {
        "id": "NzakAegaq_9Y",
        "colab_type": "text"
      },
      "source": [
        "Here math.sqrt() is a function that takes value from \"a\", calculates square root from it and assigns result to \"b\".\n",
        "A function is declared in python using the \"def\" command. For example:"
      ]
    },
    {
      "cell_type": "code",
      "metadata": {
        "id": "AjEIqrSeq_9Z",
        "colab_type": "code",
        "colab": {}
      },
      "source": [
        "# defines a function called \"f\" that receives 3 parameters: \"a\", \"b\", \"c\"; \n",
        "# and returns the value assigned to the variable \"y\"\n",
        "\n",
        "def f(a, b, c):\n",
        "    y = 2*a + 2*b + 2*c\n",
        "    return y"
      ],
      "execution_count": 0,
      "outputs": []
    },
    {
      "cell_type": "code",
      "metadata": {
        "id": "Vnhpkir5q_9b",
        "colab_type": "code",
        "colab": {}
      },
      "source": [
        "f(1, 2, 3)"
      ],
      "execution_count": 0,
      "outputs": []
    },
    {
      "cell_type": "markdown",
      "metadata": {
        "id": "cK7BgtPtq_9d",
        "colab_type": "text"
      },
      "source": [
        "## Lists"
      ]
    },
    {
      "cell_type": "markdown",
      "metadata": {
        "id": "HKjLDSnSq_9e",
        "colab_type": "text"
      },
      "source": [
        "A list is a common and basic data type in Python that can contain several values. For example the following is a numeric list:"
      ]
    },
    {
      "cell_type": "code",
      "metadata": {
        "id": "ZScMPlTFq_9f",
        "colab_type": "code",
        "colab": {}
      },
      "source": [
        "x = [1, 5, 4, 9, 0]"
      ],
      "execution_count": 0,
      "outputs": []
    },
    {
      "cell_type": "markdown",
      "metadata": {
        "id": "K0tEWUXoq_9h",
        "colab_type": "text"
      },
      "source": [
        "you can get the total number of elements in a list with the \"len\" function"
      ]
    },
    {
      "cell_type": "code",
      "metadata": {
        "id": "fAUN1T6bq_9i",
        "colab_type": "code",
        "colab": {}
      },
      "source": [
        "x = [1, 5, 4, 9, 0]\n",
        "len(x)"
      ],
      "execution_count": 0,
      "outputs": []
    },
    {
      "cell_type": "markdown",
      "metadata": {
        "id": "dH2OR0Ryq_9k",
        "colab_type": "text"
      },
      "source": [
        "but lists do not behave the same as our intuition with vectors. For example, observe the output of:"
      ]
    },
    {
      "cell_type": "code",
      "metadata": {
        "id": "G0z7h4Epq_9l",
        "colab_type": "code",
        "colab": {}
      },
      "source": [
        "a = [1, 2, 3]\n",
        "b = [1, 2, 3]\n",
        "\n",
        "c = a + b"
      ],
      "execution_count": 0,
      "outputs": []
    },
    {
      "cell_type": "markdown",
      "metadata": {
        "id": "PySWc6zOq_9o",
        "colab_type": "text"
      },
      "source": [
        "One would expect c to be [2, 4, 6], but the \"+\" sign for list indicates concatenation, and not addition. Therefore, c is actually:"
      ]
    },
    {
      "cell_type": "code",
      "metadata": {
        "id": "W9OtmXqOq_9o",
        "colab_type": "code",
        "colab": {}
      },
      "source": [
        "c == [2, 4, 6]"
      ],
      "execution_count": 0,
      "outputs": []
    },
    {
      "cell_type": "code",
      "metadata": {
        "id": "q2qaT3Boq_9q",
        "colab_type": "code",
        "colab": {}
      },
      "source": [
        "c"
      ],
      "execution_count": 0,
      "outputs": []
    },
    {
      "cell_type": "markdown",
      "metadata": {
        "id": "QdXxVWiWq_9s",
        "colab_type": "text"
      },
      "source": [
        "Objects that work as our vector intuition expects are provided by the Numpy library."
      ]
    },
    {
      "cell_type": "code",
      "metadata": {
        "id": "jjaKG98jq_9u",
        "colab_type": "code",
        "colab": {}
      },
      "source": [
        "import numpy as np\n",
        "\n",
        "a = np.array([1, 2, 3])\n",
        "b = np.array([1, 2, 3])\n",
        "\n",
        "c = a + b"
      ],
      "execution_count": 0,
      "outputs": []
    },
    {
      "cell_type": "code",
      "metadata": {
        "id": "ZwpIoXvVq_9w",
        "colab_type": "code",
        "colab": {}
      },
      "source": [
        "c"
      ],
      "execution_count": 0,
      "outputs": []
    },
    {
      "cell_type": "markdown",
      "metadata": {
        "id": "2H9oJDNNq_9z",
        "colab_type": "text"
      },
      "source": [
        "To declare string variables one should use quotes, otherwise python can't differentiate strings and variable names."
      ]
    },
    {
      "cell_type": "code",
      "metadata": {
        "id": "MV7_jAY2q_90",
        "colab_type": "code",
        "colab": {}
      },
      "source": [
        "x = np.array([\"first\", \"second\", \"third\"])\n",
        "\n",
        "x"
      ],
      "execution_count": 0,
      "outputs": []
    },
    {
      "cell_type": "markdown",
      "metadata": {
        "id": "zlLfYR0Fq_94",
        "colab_type": "text"
      },
      "source": [
        "Missing values are represented by None or np.nan: "
      ]
    },
    {
      "cell_type": "code",
      "metadata": {
        "id": "_xtffeQWq_95",
        "colab_type": "code",
        "colab": {}
      },
      "source": [
        "x = np.array([\"first\", \"second\", None])\n",
        "\n",
        "x"
      ],
      "execution_count": 0,
      "outputs": []
    },
    {
      "cell_type": "code",
      "metadata": {
        "id": "bEt57qzoq_98",
        "colab_type": "code",
        "colab": {}
      },
      "source": [
        "x = np.array([1, 2, 3, np.nan])\n",
        "\n",
        "x"
      ],
      "execution_count": 0,
      "outputs": []
    },
    {
      "cell_type": "markdown",
      "metadata": {
        "id": "eUsVgAEyq_9_",
        "colab_type": "text"
      },
      "source": [
        "## Sub-setting vectors"
      ]
    },
    {
      "cell_type": "markdown",
      "metadata": {
        "id": "czfEqtBvq_-A",
        "colab_type": "text"
      },
      "source": [
        "If we want to extract one or several values from a vector, we must provide one or several indices in square brackets. For instance:"
      ]
    },
    {
      "cell_type": "code",
      "metadata": {
        "id": "JdC0GevUq_-B",
        "colab_type": "code",
        "colab": {}
      },
      "source": [
        "animals = np.array([\"mouse\", \"rat\", \"dog\", \"cat\"])"
      ],
      "execution_count": 0,
      "outputs": []
    },
    {
      "cell_type": "code",
      "metadata": {
        "id": "wIPiXo5yq_-H",
        "colab_type": "code",
        "colab": {}
      },
      "source": [
        "animals[2]"
      ],
      "execution_count": 0,
      "outputs": []
    },
    {
      "cell_type": "code",
      "metadata": {
        "id": "aofxJy_tq_-N",
        "colab_type": "code",
        "colab": {}
      },
      "source": [
        "animals[[3, 2]]"
      ],
      "execution_count": 0,
      "outputs": []
    },
    {
      "cell_type": "markdown",
      "metadata": {
        "id": "7H3Ujl2oq_-P",
        "colab_type": "text"
      },
      "source": [
        "Note: Python indexes starts from 0. This is different from other languages like \"R\" that starts index with 1."
      ]
    },
    {
      "cell_type": "code",
      "metadata": {
        "id": "tUdVu9O7q_-Q",
        "colab_type": "code",
        "colab": {}
      },
      "source": [
        "animals[0]"
      ],
      "execution_count": 0,
      "outputs": []
    },
    {
      "cell_type": "markdown",
      "metadata": {
        "id": "ZNe2kq84q_-S",
        "colab_type": "text"
      },
      "source": [
        "## Conditional subsetting"
      ]
    },
    {
      "cell_type": "markdown",
      "metadata": {
        "id": "y-_P82sKq_-T",
        "colab_type": "text"
      },
      "source": [
        "Another common way of sub-setting is by using a logical vector. True will select the element with the same index, while False will not:"
      ]
    },
    {
      "cell_type": "code",
      "metadata": {
        "id": "DguyEERgq_-T",
        "colab_type": "code",
        "colab": {}
      },
      "source": [
        "animals[[True, False, True, False]]"
      ],
      "execution_count": 0,
      "outputs": []
    },
    {
      "cell_type": "markdown",
      "metadata": {
        "id": "WnV0jKc2q_-X",
        "colab_type": "text"
      },
      "source": [
        "Typically, these logical vectors are not typed by hand, but are the output of other functions or logical tests. For instance, if you wanted to select only the values above 50:"
      ]
    },
    {
      "cell_type": "code",
      "metadata": {
        "id": "LuASqZA2q_-Z",
        "colab_type": "code",
        "colab": {}
      },
      "source": [
        "x = np.array([1, 66, 30, 44, 55, 3, 102, 4])\n",
        "\n",
        "x"
      ],
      "execution_count": 0,
      "outputs": []
    },
    {
      "cell_type": "code",
      "metadata": {
        "id": "FBbZo_WDq_-c",
        "colab_type": "code",
        "colab": {}
      },
      "source": [
        "x > 50"
      ],
      "execution_count": 0,
      "outputs": []
    },
    {
      "cell_type": "code",
      "metadata": {
        "id": "p--UQEUcq_-e",
        "colab_type": "code",
        "colab": {}
      },
      "source": [
        "x[x > 50]"
      ],
      "execution_count": 0,
      "outputs": []
    },
    {
      "cell_type": "markdown",
      "metadata": {
        "id": "-0VqiH7rq_-h",
        "colab_type": "text"
      },
      "source": [
        "You can combine multiple tests using & (both conditions are true, AND) or | (at least one of the conditions is true, OR):"
      ]
    },
    {
      "cell_type": "code",
      "metadata": {
        "id": "FLJbJ33zq_-i",
        "colab_type": "code",
        "colab": {}
      },
      "source": [
        "(x > 50) & (x < 100)"
      ],
      "execution_count": 0,
      "outputs": []
    },
    {
      "cell_type": "code",
      "metadata": {
        "id": "0F4a775Eq_-k",
        "colab_type": "code",
        "colab": {}
      },
      "source": [
        "(x > 50) | (x < 100)"
      ],
      "execution_count": 0,
      "outputs": []
    },
    {
      "cell_type": "markdown",
      "metadata": {
        "id": "DqzFs7z-q_-l",
        "colab_type": "text"
      },
      "source": [
        "## Data frames"
      ]
    },
    {
      "cell_type": "markdown",
      "metadata": {
        "id": "oOwMvzJJq_-m",
        "colab_type": "text"
      },
      "source": [
        "Data frames are the \"de facto\" data structure for most tabular data, and what we use for statistics and plotting. It is implemented in Python with the popular Pandas library."
      ]
    },
    {
      "cell_type": "code",
      "metadata": {
        "id": "8nsYP9Riq_-m",
        "colab_type": "code",
        "colab": {}
      },
      "source": [
        "import pandas as pd"
      ],
      "execution_count": 0,
      "outputs": []
    },
    {
      "cell_type": "code",
      "metadata": {
        "id": "aB0PA7mEq_-o",
        "colab_type": "code",
        "colab": {}
      },
      "source": [
        "pd.DataFrame()"
      ],
      "execution_count": 0,
      "outputs": []
    },
    {
      "cell_type": "markdown",
      "metadata": {
        "id": "gDAMaQQ-q_-r",
        "colab_type": "text"
      },
      "source": [
        "An example of tabular data:"
      ]
    },
    {
      "cell_type": "code",
      "metadata": {
        "id": "R1_qi1qzq_-r",
        "colab_type": "code",
        "colab": {}
      },
      "source": [
        "df = pd.DataFrame({\n",
        "    \"Name\": [\"Jhon\", \"Joseph\", \"Martin\", \"Ivan\", \"Andrea\"],\n",
        "    \"Goods\": [\"Bread\", \"Milk\", \"Apples\", \"Meat\", \"Eggs\"], \n",
        "    \"Sales\": [15, 18, 21, None, 60], \n",
        "    \"Price\": [34, 52, 33, 44, None]\n",
        "})"
      ],
      "execution_count": 0,
      "outputs": []
    },
    {
      "cell_type": "code",
      "metadata": {
        "id": "neYBQdaCq_-v",
        "colab_type": "code",
        "colab": {}
      },
      "source": [
        "df"
      ],
      "execution_count": 0,
      "outputs": []
    },
    {
      "cell_type": "markdown",
      "metadata": {
        "id": "mptKJDsEq_-y",
        "colab_type": "text"
      },
      "source": [
        "A data frame can be created by hand, but most commonly they are generated by the functions pd.read_csv() or pd.read_excel(); in other words, when importing spreadsheets from your hard drive or from the web."
      ]
    },
    {
      "cell_type": "code",
      "metadata": {
        "id": "htc1b0Q_q_-z",
        "colab_type": "code",
        "colab": {}
      },
      "source": [
        "df = pd.read_csv(\"https://courses.cs.ut.ee/2019/bda/fall/uploads/Main/inputFile1.csv\", sep=\" \")"
      ],
      "execution_count": 0,
      "outputs": []
    },
    {
      "cell_type": "code",
      "metadata": {
        "id": "vu-8Fn_nq_-2",
        "colab_type": "code",
        "colab": {}
      },
      "source": [
        "df.head()"
      ],
      "execution_count": 0,
      "outputs": []
    },
    {
      "cell_type": "code",
      "metadata": {
        "id": "16bbbadlq_-5",
        "colab_type": "code",
        "colab": {}
      },
      "source": [
        "df.shape"
      ],
      "execution_count": 0,
      "outputs": []
    },
    {
      "cell_type": "markdown",
      "metadata": {
        "id": "WMhfv0ekq_-9",
        "colab_type": "text"
      },
      "source": [
        "The columns of the resulting DataFrame have different dtypes."
      ]
    },
    {
      "cell_type": "code",
      "metadata": {
        "id": "r-AzLoJTq_--",
        "colab_type": "code",
        "colab": {}
      },
      "source": [
        "df.dtypes"
      ],
      "execution_count": 0,
      "outputs": []
    },
    {
      "cell_type": "markdown",
      "metadata": {
        "id": "sBH2Fpbwq__A",
        "colab_type": "text"
      },
      "source": [
        "## Inspecting data frame objects"
      ]
    },
    {
      "cell_type": "markdown",
      "metadata": {
        "id": "ShSAEnWuq__B",
        "colab_type": "text"
      },
      "source": [
        "You can view the top and bottom rows of the frame as following:"
      ]
    },
    {
      "cell_type": "code",
      "metadata": {
        "id": "uKJGFOpNq__D",
        "colab_type": "code",
        "colab": {}
      },
      "source": [
        "df.head()"
      ],
      "execution_count": 0,
      "outputs": []
    },
    {
      "cell_type": "code",
      "metadata": {
        "id": "CiQGkK9Cq__F",
        "colab_type": "code",
        "colab": {}
      },
      "source": [
        "df.tail()"
      ],
      "execution_count": 0,
      "outputs": []
    },
    {
      "cell_type": "markdown",
      "metadata": {
        "id": "LpBkSeBuq__G",
        "colab_type": "text"
      },
      "source": [
        "Display the index, columns:"
      ]
    },
    {
      "cell_type": "code",
      "metadata": {
        "id": "lGfNwUPlq__H",
        "colab_type": "code",
        "colab": {}
      },
      "source": [
        "df.index"
      ],
      "execution_count": 0,
      "outputs": []
    },
    {
      "cell_type": "code",
      "metadata": {
        "id": "QpWqo5K9q__O",
        "colab_type": "code",
        "colab": {}
      },
      "source": [
        "df.columns"
      ],
      "execution_count": 0,
      "outputs": []
    },
    {
      "cell_type": "markdown",
      "metadata": {
        "id": "Y2JgV1nMq__Q",
        "colab_type": "text"
      },
      "source": [
        "describe() shows a quick statistic summary of your data:"
      ]
    },
    {
      "cell_type": "code",
      "metadata": {
        "id": "CDoyrTUJq__R",
        "colab_type": "code",
        "colab": {}
      },
      "source": [
        "df.describe()"
      ],
      "execution_count": 0,
      "outputs": []
    },
    {
      "cell_type": "markdown",
      "metadata": {
        "id": "BN59ja3Xq__T",
        "colab_type": "text"
      },
      "source": [
        "It is possible to sort the values from a specific column:"
      ]
    },
    {
      "cell_type": "code",
      "metadata": {
        "id": "ri69Z_bMq__U",
        "colab_type": "code",
        "colab": {}
      },
      "source": [
        "df.sort_values(by=\"account_a\", ascending=True).head()"
      ],
      "execution_count": 0,
      "outputs": []
    },
    {
      "cell_type": "markdown",
      "metadata": {
        "id": "GA2IOvkkq__W",
        "colab_type": "text"
      },
      "source": [
        "## Data frame selection"
      ]
    },
    {
      "cell_type": "code",
      "metadata": {
        "id": "hgEGMJGXq__X",
        "colab_type": "code",
        "colab": {}
      },
      "source": [
        "df = pd.DataFrame({\n",
        "    \"Name\": [\"Jhon\", \"Joseph\", \"Martin\", \"Ivan\", \"Andrea\"],\n",
        "    \"Goods\": [\"Bread\", \"Milk\", \"Apples\", \"Meat\", \"Eggs\"], \n",
        "    \"Sales\": [15, 18, 21, None, 60], \n",
        "    \"Price\": [34, 52, 33, 44, None]\n",
        "}).set_index('Name')"
      ],
      "execution_count": 0,
      "outputs": []
    },
    {
      "cell_type": "code",
      "metadata": {
        "id": "AnlqXaaFq__Z",
        "colab_type": "code",
        "colab": {}
      },
      "source": [
        "df"
      ],
      "execution_count": 0,
      "outputs": []
    },
    {
      "cell_type": "markdown",
      "metadata": {
        "id": "0jiNLajbq__a",
        "colab_type": "text"
      },
      "source": [
        "Selecting a single column, which yields a Series:"
      ]
    },
    {
      "cell_type": "code",
      "metadata": {
        "id": "Pj9RlIsvq__b",
        "colab_type": "code",
        "colab": {}
      },
      "source": [
        "df['Goods']"
      ],
      "execution_count": 0,
      "outputs": []
    },
    {
      "cell_type": "markdown",
      "metadata": {
        "id": "_Ml42aGWq__d",
        "colab_type": "text"
      },
      "source": [
        "Selecting via [], which slices the rows:"
      ]
    },
    {
      "cell_type": "code",
      "metadata": {
        "id": "YfV7qlTfq__d",
        "colab_type": "code",
        "colab": {}
      },
      "source": [
        "df[0:2]"
      ],
      "execution_count": 0,
      "outputs": []
    },
    {
      "cell_type": "code",
      "metadata": {
        "id": "PW_QA1kRq__f",
        "colab_type": "code",
        "colab": {}
      },
      "source": [
        "df.loc['Jhon']"
      ],
      "execution_count": 0,
      "outputs": []
    },
    {
      "cell_type": "markdown",
      "metadata": {
        "id": "wT6H7tJjq__h",
        "colab_type": "text"
      },
      "source": [
        "Selecting on a multi-axis by label:"
      ]
    },
    {
      "cell_type": "code",
      "metadata": {
        "id": "_I_7rfOEq__h",
        "colab_type": "code",
        "colab": {}
      },
      "source": [
        "df.loc[:, ['Sales', 'Price']]"
      ],
      "execution_count": 0,
      "outputs": []
    },
    {
      "cell_type": "markdown",
      "metadata": {
        "id": "6NhcjnMDq__j",
        "colab_type": "text"
      },
      "source": [
        "Select via the position of the passed integers:"
      ]
    },
    {
      "cell_type": "code",
      "metadata": {
        "id": "7K7e27yUq__j",
        "colab_type": "code",
        "colab": {}
      },
      "source": [
        "df.iloc[0]"
      ],
      "execution_count": 0,
      "outputs": []
    },
    {
      "cell_type": "code",
      "metadata": {
        "id": "rHxNAExcq__l",
        "colab_type": "code",
        "colab": {}
      },
      "source": [
        "df.iloc[0:3]"
      ],
      "execution_count": 0,
      "outputs": []
    },
    {
      "cell_type": "code",
      "metadata": {
        "id": "oUZ2xmTBq__n",
        "colab_type": "code",
        "colab": {}
      },
      "source": [
        "df.iloc[0:3, [0, 1]]"
      ],
      "execution_count": 0,
      "outputs": []
    },
    {
      "cell_type": "markdown",
      "metadata": {
        "id": "tKc__B-Mq__q",
        "colab_type": "text"
      },
      "source": [
        "Similarly as we did with arrays, it is possible to use boolean vectors to select values from the data frame:"
      ]
    },
    {
      "cell_type": "code",
      "metadata": {
        "id": "DDJV3uBoq__r",
        "colab_type": "code",
        "colab": {}
      },
      "source": [
        "df.Goods == 'Milk'"
      ],
      "execution_count": 0,
      "outputs": []
    },
    {
      "cell_type": "code",
      "metadata": {
        "id": "oCxo42Ruq__s",
        "colab_type": "code",
        "colab": {}
      },
      "source": [
        "df[df.Goods == 'Milk']"
      ],
      "execution_count": 0,
      "outputs": []
    },
    {
      "cell_type": "markdown",
      "metadata": {
        "id": "NIX3XEVpq__u",
        "colab_type": "text"
      },
      "source": [
        "Setting a new column automatically aligns the data by the indexes:"
      ]
    },
    {
      "cell_type": "code",
      "metadata": {
        "id": "qARNaKl0q__v",
        "colab_type": "code",
        "colab": {}
      },
      "source": [
        "s1 = pd.Series(pd.date_range('20190101', periods=5), index=[\"Jhon\", \"Joseph\", \"Martin\", \"Ivan\", \"Andrea\"])"
      ],
      "execution_count": 0,
      "outputs": []
    },
    {
      "cell_type": "code",
      "metadata": {
        "id": "dM3KuoNxq__x",
        "colab_type": "code",
        "colab": {}
      },
      "source": [
        "df[\"Date\"] = s1"
      ],
      "execution_count": 0,
      "outputs": []
    },
    {
      "cell_type": "code",
      "metadata": {
        "id": "5_RaMaLgq__y",
        "colab_type": "code",
        "colab": {}
      },
      "source": [
        "df"
      ],
      "execution_count": 0,
      "outputs": []
    },
    {
      "cell_type": "markdown",
      "metadata": {
        "id": "eyZNNWFYq__3",
        "colab_type": "text"
      },
      "source": [
        "Pandas primarily uses the value NaN to represent missing data."
      ]
    },
    {
      "cell_type": "code",
      "metadata": {
        "id": "dYuKcAozq__4",
        "colab_type": "code",
        "colab": {}
      },
      "source": [
        "df.isna()"
      ],
      "execution_count": 0,
      "outputs": []
    },
    {
      "cell_type": "markdown",
      "metadata": {
        "id": "eUFZBJsHq__8",
        "colab_type": "text"
      },
      "source": [
        "You can drop rows with missing data with:"
      ]
    },
    {
      "cell_type": "code",
      "metadata": {
        "id": "o7P4tSLPq__9",
        "colab_type": "code",
        "colab": {}
      },
      "source": [
        "df.dropna()"
      ],
      "execution_count": 0,
      "outputs": []
    },
    {
      "cell_type": "markdown",
      "metadata": {
        "id": "a1RsMoDCq___",
        "colab_type": "text"
      },
      "source": [
        "Or use the fillna to replace the NaN value:"
      ]
    },
    {
      "cell_type": "code",
      "metadata": {
        "id": "PuPuZBwFrAAA",
        "colab_type": "code",
        "colab": {}
      },
      "source": [
        "df.fillna(0)"
      ],
      "execution_count": 0,
      "outputs": []
    },
    {
      "cell_type": "markdown",
      "metadata": {
        "id": "Q1AJdnOtrAAG",
        "colab_type": "text"
      },
      "source": [
        "## References"
      ]
    },
    {
      "cell_type": "markdown",
      "metadata": {
        "id": "yiiY1h6TrAAH",
        "colab_type": "text"
      },
      "source": [
        "* 10 minutes to pandas: https://pandas.pydata.org/pandas-docs/stable/getting_started/10min.html"
      ]
    }
  ]
}